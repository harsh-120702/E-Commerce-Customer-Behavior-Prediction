{
  "nbformat": 4,
  "nbformat_minor": 5,
  "metadata": {
    "kernelspec": {
      "display_name": "Python 3",
      "language": "python",
      "name": "python3"
    },
    "language_info": {
      "codemirror_mode": {
        "name": "ipython",
        "version": 3
      },
      "file_extension": ".py",
      "mimetype": "text/x-python",
      "name": "python",
      "nbconvert_exporter": "python",
      "pygments_lexer": "ipython3",
      "version": "3.7.10"
    },
    "colab": {
      "name": "Classifier_Womens_clothing_kaggle_exercise.ipynb",
      "provenance": [],
      "collapsed_sections": [],
      "include_colab_link": true
    },
    "widgets": {
      "application/vnd.jupyter.widget-state+json": {
        "7ccbb6a3c8a04a91b49da5556b843830": {
          "model_module": "@jupyter-widgets/controls",
          "model_name": "HBoxModel",
          "state": {
            "_view_name": "HBoxView",
            "_dom_classes": [],
            "_model_name": "HBoxModel",
            "_view_module": "@jupyter-widgets/controls",
            "_model_module_version": "1.5.0",
            "_view_count": null,
            "_view_module_version": "1.5.0",
            "box_style": "",
            "layout": "IPY_MODEL_cf0a1f66f87c437eb82fcedb34c59a80",
            "_model_module": "@jupyter-widgets/controls",
            "children": [
              "IPY_MODEL_59c7e56dfd23402d9111539a086f1dce",
              "IPY_MODEL_7d9b8cf9bd81485aa2581554d707a177"
            ]
          }
        },
        "cf0a1f66f87c437eb82fcedb34c59a80": {
          "model_module": "@jupyter-widgets/base",
          "model_name": "LayoutModel",
          "state": {
            "_view_name": "LayoutView",
            "grid_template_rows": null,
            "right": null,
            "justify_content": null,
            "_view_module": "@jupyter-widgets/base",
            "overflow": null,
            "_model_module_version": "1.2.0",
            "_view_count": null,
            "flex_flow": null,
            "width": null,
            "min_width": null,
            "border": null,
            "align_items": null,
            "bottom": null,
            "_model_module": "@jupyter-widgets/base",
            "top": null,
            "grid_column": null,
            "overflow_y": null,
            "overflow_x": null,
            "grid_auto_flow": null,
            "grid_area": null,
            "grid_template_columns": null,
            "flex": null,
            "_model_name": "LayoutModel",
            "justify_items": null,
            "grid_row": null,
            "max_height": null,
            "align_content": null,
            "visibility": null,
            "align_self": null,
            "height": null,
            "min_height": null,
            "padding": null,
            "grid_auto_rows": null,
            "grid_gap": null,
            "max_width": null,
            "order": null,
            "_view_module_version": "1.2.0",
            "grid_template_areas": null,
            "object_position": null,
            "object_fit": null,
            "grid_auto_columns": null,
            "margin": null,
            "display": null,
            "left": null
          }
        },
        "59c7e56dfd23402d9111539a086f1dce": {
          "model_module": "@jupyter-widgets/controls",
          "model_name": "FloatProgressModel",
          "state": {
            "_view_name": "ProgressView",
            "style": "IPY_MODEL_5ea87b522d084f2d84c9f5733270cb38",
            "_dom_classes": [],
            "description": "Optimization Progress: 100%",
            "_model_name": "FloatProgressModel",
            "bar_style": "",
            "max": 240,
            "_view_module": "@jupyter-widgets/controls",
            "_model_module_version": "1.5.0",
            "value": 240,
            "_view_count": null,
            "_view_module_version": "1.5.0",
            "orientation": "horizontal",
            "min": 0,
            "description_tooltip": null,
            "_model_module": "@jupyter-widgets/controls",
            "layout": "IPY_MODEL_ac4a23ca3ac94cb3866b54cbab9beed8"
          }
        },
        "7d9b8cf9bd81485aa2581554d707a177": {
          "model_module": "@jupyter-widgets/controls",
          "model_name": "HTMLModel",
          "state": {
            "_view_name": "HTMLView",
            "style": "IPY_MODEL_4a272d0bfefc4b0daf1664a983094405",
            "_dom_classes": [],
            "description": "",
            "_model_name": "HTMLModel",
            "placeholder": "​",
            "_view_module": "@jupyter-widgets/controls",
            "_model_module_version": "1.5.0",
            "value": " 240/240 [27:25&lt;00:00,  7.20s/pipeline]",
            "_view_count": null,
            "_view_module_version": "1.5.0",
            "description_tooltip": null,
            "_model_module": "@jupyter-widgets/controls",
            "layout": "IPY_MODEL_be18976a9e31448a8dda4f40dfb33084"
          }
        },
        "5ea87b522d084f2d84c9f5733270cb38": {
          "model_module": "@jupyter-widgets/controls",
          "model_name": "ProgressStyleModel",
          "state": {
            "_view_name": "StyleView",
            "_model_name": "ProgressStyleModel",
            "description_width": "initial",
            "_view_module": "@jupyter-widgets/base",
            "_model_module_version": "1.5.0",
            "_view_count": null,
            "_view_module_version": "1.2.0",
            "bar_color": null,
            "_model_module": "@jupyter-widgets/controls"
          }
        },
        "ac4a23ca3ac94cb3866b54cbab9beed8": {
          "model_module": "@jupyter-widgets/base",
          "model_name": "LayoutModel",
          "state": {
            "_view_name": "LayoutView",
            "grid_template_rows": null,
            "right": null,
            "justify_content": null,
            "_view_module": "@jupyter-widgets/base",
            "overflow": null,
            "_model_module_version": "1.2.0",
            "_view_count": null,
            "flex_flow": null,
            "width": null,
            "min_width": null,
            "border": null,
            "align_items": null,
            "bottom": null,
            "_model_module": "@jupyter-widgets/base",
            "top": null,
            "grid_column": null,
            "overflow_y": null,
            "overflow_x": null,
            "grid_auto_flow": null,
            "grid_area": null,
            "grid_template_columns": null,
            "flex": null,
            "_model_name": "LayoutModel",
            "justify_items": null,
            "grid_row": null,
            "max_height": null,
            "align_content": null,
            "visibility": null,
            "align_self": null,
            "height": null,
            "min_height": null,
            "padding": null,
            "grid_auto_rows": null,
            "grid_gap": null,
            "max_width": null,
            "order": null,
            "_view_module_version": "1.2.0",
            "grid_template_areas": null,
            "object_position": null,
            "object_fit": null,
            "grid_auto_columns": null,
            "margin": null,
            "display": null,
            "left": null
          }
        },
        "4a272d0bfefc4b0daf1664a983094405": {
          "model_module": "@jupyter-widgets/controls",
          "model_name": "DescriptionStyleModel",
          "state": {
            "_view_name": "StyleView",
            "_model_name": "DescriptionStyleModel",
            "description_width": "",
            "_view_module": "@jupyter-widgets/base",
            "_model_module_version": "1.5.0",
            "_view_count": null,
            "_view_module_version": "1.2.0",
            "_model_module": "@jupyter-widgets/controls"
          }
        },
        "be18976a9e31448a8dda4f40dfb33084": {
          "model_module": "@jupyter-widgets/base",
          "model_name": "LayoutModel",
          "state": {
            "_view_name": "LayoutView",
            "grid_template_rows": null,
            "right": null,
            "justify_content": null,
            "_view_module": "@jupyter-widgets/base",
            "overflow": null,
            "_model_module_version": "1.2.0",
            "_view_count": null,
            "flex_flow": null,
            "width": null,
            "min_width": null,
            "border": null,
            "align_items": null,
            "bottom": null,
            "_model_module": "@jupyter-widgets/base",
            "top": null,
            "grid_column": null,
            "overflow_y": null,
            "overflow_x": null,
            "grid_auto_flow": null,
            "grid_area": null,
            "grid_template_columns": null,
            "flex": null,
            "_model_name": "LayoutModel",
            "justify_items": null,
            "grid_row": null,
            "max_height": null,
            "align_content": null,
            "visibility": null,
            "align_self": null,
            "height": null,
            "min_height": null,
            "padding": null,
            "grid_auto_rows": null,
            "grid_gap": null,
            "max_width": null,
            "order": null,
            "_view_module_version": "1.2.0",
            "grid_template_areas": null,
            "object_position": null,
            "object_fit": null,
            "grid_auto_columns": null,
            "margin": null,
            "display": null,
            "left": null
          }
        }
      }
    }
  },
  "cells": [
    {
      "cell_type": "markdown",
      "metadata": {
        "id": "view-in-github",
        "colab_type": "text"
      },
      "source": [
        "<a href=\"https://colab.research.google.com/github/janhavi-giri/Kaggle_exer_1/blob/main/Classifier_Womens_clothing_kaggle_exercise.ipynb\" target=\"_parent\"><img src=\"https://colab.research.google.com/assets/colab-badge.svg\" alt=\"Open In Colab\"/></a>"
      ]
    },
    {
      "cell_type": "code",
      "metadata": {
        "id": "departmental-entity"
      },
      "source": [
        "#Kaggle data topic: \n",
        "#E-commerce : Transactional data for predictive analysis: To build predictive models on online shopping portal data streams \n",
        "#Data sets: 1. https://www.kaggle.com/nicapotato/womens-ecommerce-clothing-reviews\n",
        "#Contains: 23486 rows and 10 feature variables where each row corresponds to a customer review. \n",
        "#The 10 feature variables are:\n",
        "#Clothing ID: Integer/Categorical variable\n",
        "#Age: Positive integer variable of the reviewer’s age\n",
        "#Title: String for review title\n",
        "#Review Text: String variable for review body\n",
        "#Rating: Positive integer, 1 worst to 5 best\n",
        "#Recommended IND: Binary, 1 recommended, 0 not recommended\n",
        "#Positive Feedback Count: Positive integer of # of customers who found the review helpful\n",
        "#Division Name: Categorical name of the product high level division\n",
        "#Department Name: Categorical name of the product department name.\n",
        "#Class Name: Categorical name of the product class name.\n"
      ],
      "id": "departmental-entity",
      "execution_count": null,
      "outputs": []
    },
    {
      "cell_type": "markdown",
      "metadata": {
        "id": "hVLK40PhZjXB"
      },
      "source": [
        "# Building a Binary Classifier through feature selection and doing comparison/verification with AutoML"
      ],
      "id": "hVLK40PhZjXB"
    },
    {
      "cell_type": "code",
      "metadata": {
        "colab": {
          "base_uri": "https://localhost:8080/"
        },
        "id": "v7XAlG-VC-jL",
        "outputId": "e842fda4-3888-438d-98f0-c0fdba589219"
      },
      "source": [
        "from google.colab import drive\n",
        "drive.mount('/content/drive')\n",
        "import os\n",
        "os.chdir('/content/drive/MyDrive/Colab Notebooks')\n",
        "pwd = os.getcwd()\n",
        "print(pwd)"
      ],
      "id": "v7XAlG-VC-jL",
      "execution_count": null,
      "outputs": [
        {
          "output_type": "stream",
          "text": [
            "Mounted at /content/drive\n",
            "/content/drive/MyDrive/Colab Notebooks\n"
          ],
          "name": "stdout"
        }
      ]
    },
    {
      "cell_type": "code",
      "metadata": {
        "id": "criminal-outreach",
        "colab": {
          "base_uri": "https://localhost:8080/"
        },
        "outputId": "56c06191-131a-43af-c099-a1ed7203899d"
      },
      "source": [
        "import os\n",
        "import numpy as np\n",
        "import pandas as pd\n",
        "from sklearn.preprocessing import StandardScaler\n",
        "from sklearn.decomposition import PCA\n",
        "import matplotlib.pyplot as plt\n",
        "import seaborn as sns\n",
        "import statsmodels.api as sm\n",
        "%matplotlib inline\n",
        "from sklearn.model_selection import train_test_split\n",
        "from sklearn.linear_model import LinearRegression\n",
        "from sklearn.feature_selection import RFE\n",
        "from sklearn.linear_model import RidgeCV, LassoCV, Ridge, Lasso\n",
        "from sklearn.ensemble import RandomForestClassifier\n",
        "from sklearn.metrics import confusion_matrix"
      ],
      "id": "criminal-outreach",
      "execution_count": null,
      "outputs": [
        {
          "output_type": "stream",
          "text": [
            "/usr/local/lib/python3.7/dist-packages/statsmodels/tools/_testing.py:19: FutureWarning: pandas.util.testing is deprecated. Use the functions in the public API at pandas.testing instead.\n",
            "  import pandas.util.testing as tm\n"
          ],
          "name": "stderr"
        }
      ]
    },
    {
      "cell_type": "code",
      "metadata": {
        "id": "later-dollar",
        "colab": {
          "base_uri": "https://localhost:8080/"
        },
        "outputId": "659344a9-c7ae-4762-e4dd-d3a02c8ea4f1"
      },
      "source": [
        "# Step1: Explore and cleaning the data set\n",
        "# Read the data from csv file\n",
        "df = pd.read_csv('Womens Clothing E-Commerce Reviews.csv')\n",
        "print(\"# of features in dataset are =\", df.shape[1])\n",
        "print(\"# of samples in dataset are =\", df.shape[0])\n",
        "#List name of features\n",
        "print(\"Features of data set are =\", df.columns)\n",
        "#List datatypes of features\n",
        "print(\"Feature datatypes are=\",df.dtypes)\n",
        "# Drop Unamed feature from dataset\n",
        "df1 = df.drop(columns=['Unnamed: 0'])\n",
        "#Updated features\n",
        "print(\"Features of data set are =\", df1.columns)"
      ],
      "id": "later-dollar",
      "execution_count": null,
      "outputs": [
        {
          "output_type": "stream",
          "text": [
            "# of features in dataset are = 11\n",
            "# of samples in dataset are = 23486\n",
            "Features of data set are = Index(['Unnamed: 0', 'Clothing ID', 'Age', 'Title', 'Review Text', 'Rating',\n",
            "       'Recommended IND', 'Positive Feedback Count', 'Division Name',\n",
            "       'Department Name', 'Class Name'],\n",
            "      dtype='object')\n",
            "Feature datatypes are= Unnamed: 0                  int64\n",
            "Clothing ID                 int64\n",
            "Age                         int64\n",
            "Title                      object\n",
            "Review Text                object\n",
            "Rating                      int64\n",
            "Recommended IND             int64\n",
            "Positive Feedback Count     int64\n",
            "Division Name              object\n",
            "Department Name            object\n",
            "Class Name                 object\n",
            "dtype: object\n",
            "Features of data set are = Index(['Clothing ID', 'Age', 'Title', 'Review Text', 'Rating',\n",
            "       'Recommended IND', 'Positive Feedback Count', 'Division Name',\n",
            "       'Department Name', 'Class Name'],\n",
            "      dtype='object')\n"
          ],
          "name": "stdout"
        }
      ]
    },
    {
      "cell_type": "code",
      "metadata": {
        "id": "helpful-senegal",
        "colab": {
          "base_uri": "https://localhost:8080/"
        },
        "outputId": "e11355a1-b133-426f-e057-9d8902b4e583"
      },
      "source": [
        "# Investigate the data set for any null values\n",
        "for col in df1.columns.to_list():\n",
        "    #print(\"Column\", col, \"NaN value count=\", df1[col].isna().sum())\n",
        "    if(df1[col].isna().sum()!=0):\n",
        "        print(\"Column has null count=\",col, df1[col].isna().sum(), \"and their datatype is\",df1[col].dtypes )\n",
        "    "
      ],
      "id": "helpful-senegal",
      "execution_count": null,
      "outputs": [
        {
          "output_type": "stream",
          "text": [
            "Column has null count= Title 3810 and their datatype is object\n",
            "Column has null count= Review Text 845 and their datatype is object\n",
            "Column has null count= Division Name 14 and their datatype is object\n",
            "Column has null count= Department Name 14 and their datatype is object\n",
            "Column has null count= Class Name 14 and their datatype is object\n"
          ],
          "name": "stdout"
        }
      ]
    },
    {
      "cell_type": "code",
      "metadata": {
        "id": "independent-russian",
        "colab": {
          "base_uri": "https://localhost:8080/"
        },
        "outputId": "73402dd2-6d0a-436d-df42-46e4b7cb783b"
      },
      "source": [
        "# Since all are string type, will replace those null values with ''\n",
        "for col in df1.columns.to_list():\n",
        "    if(df1[col].isna().sum()!=0):\n",
        "            df1[col] = df1[col].fillna('')\n",
        "            print(\"After replacement\", col, \"NaN value count=\",df1[col].isna().sum())"
      ],
      "id": "independent-russian",
      "execution_count": null,
      "outputs": [
        {
          "output_type": "stream",
          "text": [
            "After replacement Title NaN value count= 0\n",
            "After replacement Review Text NaN value count= 0\n",
            "After replacement Division Name NaN value count= 0\n",
            "After replacement Department Name NaN value count= 0\n",
            "After replacement Class Name NaN value count= 0\n"
          ],
          "name": "stdout"
        }
      ]
    },
    {
      "cell_type": "code",
      "metadata": {
        "id": "arranged-radio",
        "colab": {
          "base_uri": "https://localhost:8080/",
          "height": 296
        },
        "outputId": "3a6a6a66-1eda-4d95-fad2-eb410b4dd073"
      },
      "source": [
        "plt.figure(figsize=(20, 4))\n",
        "sns.countplot(data=df1, x='Department Name', order=df1['Department Name'].value_counts().sort_values(ascending=False).index, hue='Recommended IND')"
      ],
      "id": "arranged-radio",
      "execution_count": null,
      "outputs": [
        {
          "output_type": "execute_result",
          "data": {
            "text/plain": [
              "<matplotlib.axes._subplots.AxesSubplot at 0x7f2e9f2132d0>"
            ]
          },
          "metadata": {
            "tags": []
          },
          "execution_count": 6
        },
        {
          "output_type": "display_data",
          "data": {
            "image/png": "[encoded data removed]",
            "text/plain": [
              "<Figure size 1440x288 with 1 Axes>"
            ]
          },
          "metadata": {
            "tags": [],
            "needs_background": "light"
          }
        }
      ]
    },
    {
      "cell_type": "markdown",
      "metadata": {
        "id": "f7GlthIgES3r"
      },
      "source": [
        "#Higly recommended/not-recommended Department is \"Tops\" => \"Tops\" is their highly bought product department which consists of \"Knits,blouses, sweaters, and fine gauge\". Dresses is the next individual Department with higher recommendation."
      ],
      "id": "f7GlthIgES3r"
    },
    {
      "cell_type": "code",
      "metadata": {
        "id": "worldwide-breast",
        "colab": {
          "base_uri": "https://localhost:8080/",
          "height": 296
        },
        "outputId": "36736407-8403-4b34-98cb-67dcc46016ca"
      },
      "source": [
        "plt.figure(figsize=(20, 4))\n",
        "sns.countplot(data=df1, x='Class Name', order=df1['Class Name'].value_counts().sort_values(ascending=False).index, hue='Recommended IND')"
      ],
      "id": "worldwide-breast",
      "execution_count": null,
      "outputs": [
        {
          "output_type": "execute_result",
          "data": {
            "text/plain": [
              "<matplotlib.axes._subplots.AxesSubplot at 0x7f2e9dd66110>"
            ]
          },
          "metadata": {
            "tags": []
          },
          "execution_count": 7
        },
        {
          "output_type": "display_data",
          "data": {
            "image/png": "[encoded data removed]",
            "text/plain": [
              "<Figure size 1440x288 with 1 Axes>"
            ]
          },
          "metadata": {
            "tags": [],
            "needs_background": "light"
          }
        }
      ]
    },
    {
      "cell_type": "code",
      "metadata": {
        "colab": {
          "base_uri": "https://localhost:8080/",
          "height": 296
        },
        "id": "QB-6bdNUFMRl",
        "outputId": "13962e6a-7533-4a13-8c4a-f158b59cb571"
      },
      "source": [
        "plt.figure(figsize=(20, 4))\n",
        "sns.countplot(data=df1, x='Class Name', order=df1['Class Name'].value_counts().sort_values(ascending=False).index, hue='Department Name')"
      ],
      "id": "QB-6bdNUFMRl",
      "execution_count": null,
      "outputs": [
        {
          "output_type": "execute_result",
          "data": {
            "text/plain": [
              "<matplotlib.axes._subplots.AxesSubplot at 0x7f2e9c428110>"
            ]
          },
          "metadata": {
            "tags": []
          },
          "execution_count": 8
        },
        {
          "output_type": "display_data",
          "data": {
            "image/png": "[encoded data removed]",
            "text/plain": [
              "<Figure size 1440x288 with 1 Axes>"
            ]
          },
          "metadata": {
            "tags": [],
            "needs_background": "light"
          }
        }
      ]
    },
    {
      "cell_type": "code",
      "metadata": {
        "id": "greater-arbitration",
        "outputId": "f5738c0e-e500-4078-bc83-57c2a540c59d"
      },
      "source": [
        "plt.figure(figsize=(20, 4))\n",
        "sns.countplot(data=df1, x='Age', order=df1['Age'].value_counts().sort_values(ascending=False).index, hue='Recommended IND')"
      ],
      "id": "greater-arbitration",
      "execution_count": null,
      "outputs": [
        {
          "output_type": "execute_result",
          "data": {
            "text/plain": [
              "<AxesSubplot:xlabel='Age', ylabel='count'>"
            ]
          },
          "metadata": {
            "tags": []
          },
          "execution_count": 8
        },
        {
          "output_type": "display_data",
          "data": {
            "image/png": "[encoded data removed]",
            "text/plain": [
              "<Figure size 1440x288 with 1 Axes>"
            ]
          },
          "metadata": {
            "tags": [],
            "needs_background": "light"
          }
        }
      ]
    },
    {
      "cell_type": "code",
      "metadata": {
        "colab": {
          "base_uri": "https://localhost:8080/",
          "height": 323
        },
        "id": "YO5NJalqHNFz",
        "outputId": "1de247d5-5cf6-4a97-d054-efa8d9483a99"
      },
      "source": [
        "df1.hist(column='Age', by='Recommended IND',bins=20 ,grid=False)\n",
        "print(\"Mean age of customers with purchase recommendation are=\",df1['Age'][df1['Recommended IND']==1].mean())\n",
        "print(\"Mean age of customers with no purchase recommendation are=\",df1['Age'][df1['Recommended IND']==0].mean())"
      ],
      "id": "YO5NJalqHNFz",
      "execution_count": null,
      "outputs": [
        {
          "output_type": "stream",
          "text": [
            "Mean age of customers with purchase recommendation are= 43.37330433882158\n",
            "Mean age of customers with no purchase recommendation are= 42.38950143815916\n"
          ],
          "name": "stdout"
        },
        {
          "output_type": "display_data",
          "data": {
            "image/png": "[encoded data removed]",
            "text/plain": [
              "<Figure size 432x288 with 2 Axes>"
            ]
          },
          "metadata": {
            "tags": [],
            "needs_background": "light"
          }
        }
      ]
    },
    {
      "cell_type": "code",
      "metadata": {
        "id": "vocal-chair",
        "outputId": "87e97ca7-e00c-494e-fb2f-6d69d671fe58"
      },
      "source": [
        "plt.figure(figsize=(20, 4))\n",
        "sns.countplot(data=df1, x='Rating', order=df1['Rating'].value_counts().sort_values(ascending=False).index, hue='Recommended IND')"
      ],
      "id": "vocal-chair",
      "execution_count": null,
      "outputs": [
        {
          "output_type": "execute_result",
          "data": {
            "text/plain": [
              "<AxesSubplot:xlabel='Rating', ylabel='count'>"
            ]
          },
          "metadata": {
            "tags": []
          },
          "execution_count": 9
        },
        {
          "output_type": "display_data",
          "data": {
            "image/png": "[encoded data removed]",
            "text/plain": [
              "<Figure size 1440x288 with 1 Axes>"
            ]
          },
          "metadata": {
            "tags": [],
            "needs_background": "light"
          }
        }
      ]
    },
    {
      "cell_type": "code",
      "metadata": {
        "id": "secondary-nerve",
        "colab": {
          "base_uri": "https://localhost:8080/"
        },
        "outputId": "4ee0cf16-cf16-44bd-afb2-f51f303bc9a8"
      },
      "source": [
        "'''corr = df1['Rating'].corr(df1['Recommended IND'])\n",
        "corr2 = df1['Recommended IND'].corr(df1['Age'])\n",
        "print(corr,corr2)'''\n",
        "#print(np.count_nonzero(pd.unique(df1['Rating'][df1['Rating']==i][df1['Recommended IND']==1])))''\n",
        "#Interesting that even when the rating is <=3, there is recommendation for certain products\n",
        "for i in range(1,4):\n",
        "    print('Total count with Rating', df1['Rating'][df1['Rating']==i].value_counts())\n",
        "    print('Recommended count with Rating',df1['Rating'][df1['Rating']==i][df1['Recommended IND']==0].value_counts())\n",
        "    print('Not Recommended count with Rating', df1['Rating'][df1['Rating']==i][df1['Recommended IND']==1].value_counts())"
      ],
      "id": "secondary-nerve",
      "execution_count": null,
      "outputs": [
        {
          "output_type": "stream",
          "text": [
            "Total count with Rating 1    842\n",
            "Name: Rating, dtype: int64\n",
            "Recommended count with Rating 1    826\n",
            "Name: Rating, dtype: int64\n",
            "Not Recommended count with Rating 1    16\n",
            "Name: Rating, dtype: int64\n",
            "Total count with Rating 2    1565\n",
            "Name: Rating, dtype: int64\n",
            "Recommended count with Rating 2    1471\n",
            "Name: Rating, dtype: int64\n",
            "Not Recommended count with Rating 2    94\n",
            "Name: Rating, dtype: int64\n",
            "Total count with Rating 3    2871\n",
            "Name: Rating, dtype: int64\n",
            "Recommended count with Rating 3    1682\n",
            "Name: Rating, dtype: int64\n",
            "Not Recommended count with Rating 3    1189\n",
            "Name: Rating, dtype: int64\n"
          ],
          "name": "stdout"
        }
      ]
    },
    {
      "cell_type": "markdown",
      "metadata": {
        "id": "VDxNzL8EKV2B"
      },
      "source": [
        "#Interesting that even when the rating is <=3, there is recommendation for certain products and vice-versa for ratings > 3"
      ],
      "id": "VDxNzL8EKV2B"
    },
    {
      "cell_type": "code",
      "metadata": {
        "id": "adapted-champagne",
        "colab": {
          "base_uri": "https://localhost:8080/",
          "height": 561
        },
        "outputId": "45278cc2-ce4d-409f-b7d9-4ffed3eaf284"
      },
      "source": [
        "plt.figure(figsize=(20, 4))\n",
        "#sns.countplot(data=df1, x='Rating', order=df1['Rating'].value_counts().sort_values(ascending=False).index, hue='Department Name')\n",
        "sns.catplot(x=\"Rating\", hue=\"Department Name\", col=\"Recommended IND\",\n",
        "                data=df1, kind=\"count\",height=7,aspect=0.7)\n",
        "#Interesting that for products with rating <=3 they are recommended and for products with rating >3 they have not been recommended.\n"
      ],
      "id": "adapted-champagne",
      "execution_count": null,
      "outputs": [
        {
          "output_type": "execute_result",
          "data": {
            "text/plain": [
              "<seaborn.axisgrid.FacetGrid at 0x7f2e7ec03290>"
            ]
          },
          "metadata": {
            "tags": []
          },
          "execution_count": 28
        },
        {
          "output_type": "display_data",
          "data": {
            "text/plain": [
              "<Figure size 1440x288 with 0 Axes>"
            ]
          },
          "metadata": {
            "tags": []
          }
        },
        {
          "output_type": "display_data",
          "data": {
            "image/png": "[encoded data removed]",
            "text/plain": [
              "<Figure size 806.35x504 with 2 Axes>"
            ]
          },
          "metadata": {
            "tags": [],
            "needs_background": "light"
          }
        }
      ]
    },
    {
      "cell_type": "code",
      "metadata": {
        "id": "concerned-anniversary",
        "colab": {
          "base_uri": "https://localhost:8080/"
        },
        "outputId": "27b9db5f-392b-4552-dcb5-b94b94c26cb0"
      },
      "source": [
        "df1.dtypes"
      ],
      "id": "concerned-anniversary",
      "execution_count": null,
      "outputs": [
        {
          "output_type": "execute_result",
          "data": {
            "text/plain": [
              "Clothing ID                 int64\n",
              "Age                         int64\n",
              "Title                      object\n",
              "Review Text                object\n",
              "Rating                      int64\n",
              "Recommended IND             int64\n",
              "Positive Feedback Count     int64\n",
              "Division Name              object\n",
              "Department Name            object\n",
              "Class Name                 object\n",
              "dtype: object"
            ]
          },
          "metadata": {
            "tags": []
          },
          "execution_count": 29
        }
      ]
    },
    {
      "cell_type": "code",
      "metadata": {
        "id": "permanent-consequence",
        "colab": {
          "base_uri": "https://localhost:8080/"
        },
        "outputId": "53243450-b86e-4908-ced1-5c5411074d3b"
      },
      "source": [
        "categorical_columns = list(df1.select_dtypes(include='object'))\n",
        "print(categorical_columns)\n",
        "# One-hot encode the categorical features with the get_dummies() function for Pandas DataFrames\n",
        "df1_mod = pd.get_dummies(df1,columns=categorical_columns)\n",
        "print(df1_mod.shape)\n",
        "#One-hot encode results in huge # of columns, doesnt seem like a good idea!"
      ],
      "id": "permanent-consequence",
      "execution_count": null,
      "outputs": [
        {
          "output_type": "stream",
          "text": [
            "['Title', 'Review Text', 'Division Name', 'Department Name', 'Class Name']\n",
            "(23486, 36666)\n"
          ],
          "name": "stdout"
        }
      ]
    },
    {
      "cell_type": "code",
      "metadata": {
        "id": "german-cabin",
        "colab": {
          "base_uri": "https://localhost:8080/"
        },
        "outputId": "1eb0e621-8474-4812-90c6-6b780e0fea32"
      },
      "source": [
        "print(df1['Title'].value_counts())"
      ],
      "id": "german-cabin",
      "execution_count": null,
      "outputs": [
        {
          "output_type": "stream",
          "text": [
            "                                          3810\n",
            "Love it!                                   136\n",
            "Beautiful                                   95\n",
            "Love                                        88\n",
            "Love!                                       84\n",
            "                                          ... \n",
            "Cute leggings but poor quality fabric.       1\n",
            "Different from picture                       1\n",
            "Eclat midi skirt                             1\n",
            "Cute, comfy romper!                          1\n",
            "Beware when washing                          1\n",
            "Name: Title, Length: 13994, dtype: int64\n"
          ],
          "name": "stdout"
        }
      ]
    },
    {
      "cell_type": "code",
      "metadata": {
        "id": "fabulous-spice",
        "colab": {
          "base_uri": "https://localhost:8080/"
        },
        "outputId": "21725a58-72bc-47c7-c6d4-3e4161ab6759"
      },
      "source": [
        "# dropping Title, Review Text from the data frame \n",
        "print(\"Before\", df1.columns)\n",
        "df2 = df1.drop(columns =['Title', 'Review Text'])\n",
        "print(\"After\", df2.columns)\n",
        "#print datatypes after drop\n",
        "print(\"datatypes after\",df2.dtypes)\n",
        "#One hot encode this dataframe\n",
        "categorical_columns = list(df2.select_dtypes(include='object'))\n",
        "print(categorical_columns)\n",
        "df2_mod = pd.get_dummies(df2,columns=categorical_columns)\n",
        "print(df2_mod.shape)\n",
        "print(\"columns after one-hot encode\", df2_mod.columns)\n",
        "print(\"datatype for each column =\",df2_mod.dtypes)\n"
      ],
      "id": "fabulous-spice",
      "execution_count": null,
      "outputs": [
        {
          "output_type": "stream",
          "text": [
            "Before Index(['Clothing ID', 'Age', 'Title', 'Review Text', 'Rating',\n",
            "       'Recommended IND', 'Positive Feedback Count', 'Division Name',\n",
            "       'Department Name', 'Class Name'],\n",
            "      dtype='object')\n",
            "After Index(['Clothing ID', 'Age', 'Rating', 'Recommended IND',\n",
            "       'Positive Feedback Count', 'Division Name', 'Department Name',\n",
            "       'Class Name'],\n",
            "      dtype='object')\n",
            "datatypes after Clothing ID                 int64\n",
            "Age                         int64\n",
            "Rating                      int64\n",
            "Recommended IND             int64\n",
            "Positive Feedback Count     int64\n",
            "Division Name              object\n",
            "Department Name            object\n",
            "Class Name                 object\n",
            "dtype: object\n",
            "['Division Name', 'Department Name', 'Class Name']\n",
            "(23486, 37)\n",
            "columns after one-hot encode Index(['Clothing ID', 'Age', 'Rating', 'Recommended IND',\n",
            "       'Positive Feedback Count', 'Division Name_', 'Division Name_General',\n",
            "       'Division Name_General Petite', 'Division Name_Initmates',\n",
            "       'Department Name_', 'Department Name_Bottoms',\n",
            "       'Department Name_Dresses', 'Department Name_Intimate',\n",
            "       'Department Name_Jackets', 'Department Name_Tops',\n",
            "       'Department Name_Trend', 'Class Name_', 'Class Name_Blouses',\n",
            "       'Class Name_Casual bottoms', 'Class Name_Chemises',\n",
            "       'Class Name_Dresses', 'Class Name_Fine gauge', 'Class Name_Intimates',\n",
            "       'Class Name_Jackets', 'Class Name_Jeans', 'Class Name_Knits',\n",
            "       'Class Name_Layering', 'Class Name_Legwear', 'Class Name_Lounge',\n",
            "       'Class Name_Outerwear', 'Class Name_Pants', 'Class Name_Shorts',\n",
            "       'Class Name_Skirts', 'Class Name_Sleep', 'Class Name_Sweaters',\n",
            "       'Class Name_Swim', 'Class Name_Trend'],\n",
            "      dtype='object')\n",
            "datatype for each column = Clothing ID                     int64\n",
            "Age                             int64\n",
            "Rating                          int64\n",
            "Recommended IND                 int64\n",
            "Positive Feedback Count         int64\n",
            "Division Name_                  uint8\n",
            "Division Name_General           uint8\n",
            "Division Name_General Petite    uint8\n",
            "Division Name_Initmates         uint8\n",
            "Department Name_                uint8\n",
            "Department Name_Bottoms         uint8\n",
            "Department Name_Dresses         uint8\n",
            "Department Name_Intimate        uint8\n",
            "Department Name_Jackets         uint8\n",
            "Department Name_Tops            uint8\n",
            "Department Name_Trend           uint8\n",
            "Class Name_                     uint8\n",
            "Class Name_Blouses              uint8\n",
            "Class Name_Casual bottoms       uint8\n",
            "Class Name_Chemises             uint8\n",
            "Class Name_Dresses              uint8\n",
            "Class Name_Fine gauge           uint8\n",
            "Class Name_Intimates            uint8\n",
            "Class Name_Jackets              uint8\n",
            "Class Name_Jeans                uint8\n",
            "Class Name_Knits                uint8\n",
            "Class Name_Layering             uint8\n",
            "Class Name_Legwear              uint8\n",
            "Class Name_Lounge               uint8\n",
            "Class Name_Outerwear            uint8\n",
            "Class Name_Pants                uint8\n",
            "Class Name_Shorts               uint8\n",
            "Class Name_Skirts               uint8\n",
            "Class Name_Sleep                uint8\n",
            "Class Name_Sweaters             uint8\n",
            "Class Name_Swim                 uint8\n",
            "Class Name_Trend                uint8\n",
            "dtype: object\n"
          ],
          "name": "stdout"
        }
      ]
    },
    {
      "cell_type": "code",
      "metadata": {
        "id": "personal-terry",
        "colab": {
          "base_uri": "https://localhost:8080/"
        },
        "outputId": "1f409182-0388-4ca9-fcb2-5ecee760ffa5"
      },
      "source": [
        "# Extract the target values from the  DataFrame\n",
        "y = np.reshape((df2_mod.loc[:,'Recommended IND']).values,(-1,1))\n",
        "print(y.shape)\n",
        "# Drop the target column from the training DataFrame\n",
        "df2_mod_feat = df2_mod.drop(columns=['Recommended IND'])\n",
        "print(df2_mod_feat.columns)\n",
        "print(df2_mod_feat.shape)\n"
      ],
      "id": "personal-terry",
      "execution_count": null,
      "outputs": [
        {
          "output_type": "stream",
          "text": [
            "(23486, 1)\n",
            "Index(['Clothing ID', 'Age', 'Rating', 'Positive Feedback Count',\n",
            "       'Division Name_', 'Division Name_General',\n",
            "       'Division Name_General Petite', 'Division Name_Initmates',\n",
            "       'Department Name_', 'Department Name_Bottoms',\n",
            "       'Department Name_Dresses', 'Department Name_Intimate',\n",
            "       'Department Name_Jackets', 'Department Name_Tops',\n",
            "       'Department Name_Trend', 'Class Name_', 'Class Name_Blouses',\n",
            "       'Class Name_Casual bottoms', 'Class Name_Chemises',\n",
            "       'Class Name_Dresses', 'Class Name_Fine gauge', 'Class Name_Intimates',\n",
            "       'Class Name_Jackets', 'Class Name_Jeans', 'Class Name_Knits',\n",
            "       'Class Name_Layering', 'Class Name_Legwear', 'Class Name_Lounge',\n",
            "       'Class Name_Outerwear', 'Class Name_Pants', 'Class Name_Shorts',\n",
            "       'Class Name_Skirts', 'Class Name_Sleep', 'Class Name_Sweaters',\n",
            "       'Class Name_Swim', 'Class Name_Trend'],\n",
            "      dtype='object')\n",
            "(23486, 36)\n"
          ],
          "name": "stdout"
        }
      ]
    },
    {
      "cell_type": "code",
      "metadata": {
        "id": "indonesian-traffic",
        "colab": {
          "base_uri": "https://localhost:8080/"
        },
        "outputId": "08673d2e-6c5c-46b7-c685-283715f638f1"
      },
      "source": [
        "#Inspect how balanced y is\n",
        "# Compute the fraction of positive values in the target\n",
        "fp = np.mean(y)\n",
        "print(\"fraction=\",fp)\n"
      ],
      "id": "indonesian-traffic",
      "execution_count": null,
      "outputs": [
        {
          "output_type": "stream",
          "text": [
            "fraction= 0.8223622583666865\n"
          ],
          "name": "stdout"
        }
      ]
    },
    {
      "cell_type": "code",
      "metadata": {
        "id": "raised-mission",
        "colab": {
          "base_uri": "https://localhost:8080/"
        },
        "outputId": "ed1bb277-1c1f-40f3-b1f9-6a0902c54e47"
      },
      "source": [
        "print(f'The  df currently has {df2_mod_feat.shape[1]} features')"
      ],
      "id": "raised-mission",
      "execution_count": null,
      "outputs": [
        {
          "output_type": "stream",
          "text": [
            "The  df currently has 36 features\n"
          ],
          "name": "stdout"
        }
      ]
    },
    {
      "cell_type": "code",
      "metadata": {
        "id": "confused-material",
        "colab": {
          "base_uri": "https://localhost:8080/",
          "height": 751
        },
        "outputId": "8b40f110-5f76-4698-8c5b-515323a123ff"
      },
      "source": [
        "#Visually inspect the Pearson Correlations of each feature\n",
        "plt.figure(figsize=(12,10))\n",
        "# Compute the Pearson Correlation of each feature in the training df\n",
        "cor = df2_mod_feat.corr(method='pearson')\n",
        "print(cor.shape)\n",
        "# Plot the correlations\n",
        "sns.heatmap(cor)\n",
        "plt.show()"
      ],
      "id": "confused-material",
      "execution_count": null,
      "outputs": [
        {
          "output_type": "stream",
          "text": [
            "(36, 36)\n"
          ],
          "name": "stdout"
        },
        {
          "output_type": "display_data",
          "data": {
            "image/png": "[encoded data removed]",
            "text/plain": [
              "<Figure size 864x720 with 2 Axes>"
            ]
          },
          "metadata": {
            "tags": [],
            "needs_background": "light"
          }
        }
      ]
    },
    {
      "cell_type": "code",
      "metadata": {
        "id": "practical-blade",
        "colab": {
          "base_uri": "https://localhost:8080/"
        },
        "outputId": "2018fb47-7f30-42d8-9045-3e4fc723c7b9"
      },
      "source": [
        "#Initialize a list indicating whether to keep a column in the training df\n",
        "drop_feat = []\n",
        "keep_cols = cor.columns.tolist()\n",
        "\n",
        "for i in range(len(keep_cols)):\n",
        "    for j in range(i+1, len(keep_cols)):\n",
        "        if cor.loc[keep_cols[i],keep_cols[j]] > 0.8:\n",
        "            print(\"feat1=\", keep_cols[i], \"feat2=\",keep_cols[j])\n",
        "            if keep_cols[j] in keep_cols:\n",
        "                print(\"selecting feature to drop\", keep_cols[j])\n",
        "                drop_feat.append(keep_cols[j])\n",
        "print(\"Columns to drop are\", drop_feat)  \n"
      ],
      "id": "practical-blade",
      "execution_count": null,
      "outputs": [
        {
          "output_type": "stream",
          "text": [
            "feat1= Division Name_ feat2= Department Name_\n",
            "selecting feature to drop Department Name_\n",
            "feat1= Division Name_ feat2= Class Name_\n",
            "selecting feature to drop Class Name_\n",
            "feat1= Division Name_Initmates feat2= Department Name_Intimate\n",
            "selecting feature to drop Department Name_Intimate\n",
            "feat1= Department Name_ feat2= Class Name_\n",
            "selecting feature to drop Class Name_\n",
            "feat1= Department Name_Dresses feat2= Class Name_Dresses\n",
            "selecting feature to drop Class Name_Dresses\n",
            "feat1= Department Name_Jackets feat2= Class Name_Jackets\n",
            "selecting feature to drop Class Name_Jackets\n",
            "feat1= Department Name_Trend feat2= Class Name_Trend\n",
            "selecting feature to drop Class Name_Trend\n",
            "Columns to drop are ['Department Name_', 'Class Name_', 'Department Name_Intimate', 'Class Name_', 'Class Name_Dresses', 'Class Name_Jackets', 'Class Name_Trend']\n"
          ],
          "name": "stdout"
        }
      ]
    },
    {
      "cell_type": "code",
      "metadata": {
        "id": "potential-palmer",
        "colab": {
          "base_uri": "https://localhost:8080/"
        },
        "outputId": "5f050652-13c8-4457-d62d-41e77ddd5a90"
      },
      "source": [
        "# Extract the columns to keep from the feature df\n",
        "for i in range(len(drop_feat)):\n",
        "    if drop_feat[i] in keep_cols:\n",
        "        keep_cols.remove(drop_feat[i])\n",
        "selected_columns = keep_cols\n",
        "print(\"# of Features retatined are =\", len(selected_columns))\n"
      ],
      "id": "potential-palmer",
      "execution_count": null,
      "outputs": [
        {
          "output_type": "stream",
          "text": [
            "# of Features retatined are = 30\n"
          ],
          "name": "stdout"
        }
      ]
    },
    {
      "cell_type": "code",
      "metadata": {
        "id": "static-prescription",
        "colab": {
          "base_uri": "https://localhost:8080/"
        },
        "outputId": "e5225221-4c3c-40b5-8f87-de3f6d55eed7"
      },
      "source": [
        "# Make a new df with the columns we've decided to keep from the training df\n",
        "df2_mod_feat_fin = df2_mod_feat.loc[:,selected_columns]\n",
        "print(df2_mod_feat_fin.shape)"
      ],
      "id": "static-prescription",
      "execution_count": null,
      "outputs": [
        {
          "output_type": "stream",
          "text": [
            "(23486, 30)\n"
          ],
          "name": "stdout"
        }
      ]
    },
    {
      "cell_type": "code",
      "metadata": {
        "colab": {
          "base_uri": "https://localhost:8080/"
        },
        "id": "dqhgEkAfLk2D",
        "outputId": "9cb17ee8-a8ab-4d43-98fe-af676535f1c0"
      },
      "source": [
        "selected_columns = selected_columns[0:]\n",
        "print(len(selected_columns))"
      ],
      "id": "dqhgEkAfLk2D",
      "execution_count": null,
      "outputs": [
        {
          "output_type": "stream",
          "text": [
            "30\n"
          ],
          "name": "stdout"
        }
      ]
    },
    {
      "cell_type": "code",
      "metadata": {
        "id": "conscious-setup",
        "colab": {
          "base_uri": "https://localhost:8080/"
        },
        "outputId": "f58d2a43-bfe0-4bac-b96b-6137026e0f93"
      },
      "source": [
        "selected_columns = selected_columns[0:]\n",
        "import statsmodels.api as sm\n",
        "def backwardElimination(x, y, sl, columns):\n",
        "    numVars = len(x[0])\n",
        "    print(\"numVars=\",x.shape)\n",
        "    for i in range(0, numVars):\n",
        "        regressor_OLS = sm.OLS(y, x).fit()\n",
        "        #maxVar = max(regressor_OLS.pvalues).astype(float)\n",
        "        maxVar = max(regressor_OLS.pvalues)\n",
        "        if maxVar > sl:\n",
        "            for j in range(0, numVars - i):\n",
        "                if (regressor_OLS.pvalues[j].astype(float) == maxVar):\n",
        "                    x = np.delete(x, j, 1)\n",
        "                    columns = np.delete(columns, j)\n",
        "                    \n",
        "    regressor_OLS.summary()\n",
        "    return x, columns\n",
        "SL = 0.01\n",
        "# Note that we're passing in df_out, not df_train\n",
        "data_modeled, selected_columns = backwardElimination(df2_mod_feat_fin.values, y, SL, selected_columns)\n"
      ],
      "id": "conscious-setup",
      "execution_count": null,
      "outputs": [
        {
          "output_type": "stream",
          "text": [
            "numVars= (23486, 30)\n"
          ],
          "name": "stdout"
        }
      ]
    },
    {
      "cell_type": "code",
      "metadata": {
        "id": "selected-forty",
        "colab": {
          "base_uri": "https://localhost:8080/"
        },
        "outputId": "7393ffa8-4c64-4742-ac57-84108ca211ef"
      },
      "source": [
        "print('The following columns remain based on p-value selection:')\n",
        "print(selected_columns)\n",
        "# Make a reduced df\n",
        "data_red = pd.DataFrame(data = data_modeled, columns = selected_columns)\n",
        "print(f'After selection by Pearson Correlation, we had {df2_mod_feat_fin.shape[1]} features.')\n",
        "print(f'After selection by p-value, we have {data_red.shape[1]} features.')\n",
        "print(data_red.columns)\n",
        "print(y.shape)"
      ],
      "id": "selected-forty",
      "execution_count": null,
      "outputs": [
        {
          "output_type": "stream",
          "text": [
            "The following columns remain based on p-value selection:\n",
            "['Age' 'Rating' 'Positive Feedback Count' 'Division Name_'\n",
            " 'Division Name_General' 'Division Name_General Petite'\n",
            " 'Division Name_Initmates' 'Class Name_Sweaters']\n",
            "After selection by Pearson Correlation, we had 30 features.\n",
            "After selection by p-value, we have 8 features.\n",
            "Index(['Age', 'Rating', 'Positive Feedback Count', 'Division Name_',\n",
            "       'Division Name_General', 'Division Name_General Petite',\n",
            "       'Division Name_Initmates', 'Class Name_Sweaters'],\n",
            "      dtype='object')\n",
            "(23486, 1)\n"
          ],
          "name": "stdout"
        }
      ]
    },
    {
      "cell_type": "code",
      "metadata": {
        "id": "collected-bahrain",
        "colab": {
          "base_uri": "https://localhost:8080/"
        },
        "outputId": "5e383496-98c0-49d0-8b2f-9519b6c070f3"
      },
      "source": [
        "#Cross-validated LASSO feature importance\n",
        "# Instantiate the cross-validated LASSO regressor\n",
        "reg = LassoCV()\n",
        "# Train the regressor on the reduced df\n",
        "reg.fit(data_red,y)\n",
        "### END CODE HERE ###\n",
        "print(\"Best alpha using built-in LassoCV: %f\" % reg.alpha_)\n",
        "print(\"Best score using built-in LassoCV: %f\" %reg.score(data_red, y))\n",
        "coef = pd.Series(reg.coef_, index = data_red.columns)\n",
        "print(f\"Lasso picked {sum(coef != 0)} features and eliminated the other {sum(coef == 0)} features\")"
      ],
      "id": "collected-bahrain",
      "execution_count": null,
      "outputs": [
        {
          "output_type": "stream",
          "text": [
            "/usr/local/lib/python3.7/dist-packages/sklearn/linear_model/_coordinate_descent.py:1088: DataConversionWarning: A column-vector y was passed when a 1d array was expected. Please change the shape of y to (n_samples, ), for example using ravel().\n",
            "  y = column_or_1d(y, warn=True)\n"
          ],
          "name": "stderr"
        },
        {
          "output_type": "stream",
          "text": [
            "Best alpha using built-in LassoCV: 0.000336\n",
            "Best score using built-in LassoCV: 0.628346\n",
            "Lasso picked 4 features and eliminated the other 4 features\n"
          ],
          "name": "stdout"
        }
      ]
    },
    {
      "cell_type": "code",
      "metadata": {
        "id": "premier-wyoming",
        "colab": {
          "base_uri": "https://localhost:8080/",
          "height": 624
        },
        "outputId": "51df1543-ca4f-4a15-80c0-dae4c063f926"
      },
      "source": [
        "#Visualize the LASSO feature importances\n",
        "imp_coef = coef.sort_values()\n",
        "import matplotlib\n",
        "matplotlib.rcParams['figure.figsize'] = (8.0, 10.0)\n",
        "imp_coef.plot(kind = \"barh\")\n",
        "plt.title(\"Feature importance using Lasso Model\")"
      ],
      "id": "premier-wyoming",
      "execution_count": null,
      "outputs": [
        {
          "output_type": "execute_result",
          "data": {
            "text/plain": [
              "Text(0.5, 1.0, 'Feature importance using Lasso Model')"
            ]
          },
          "metadata": {
            "tags": []
          },
          "execution_count": 60
        },
        {
          "output_type": "display_data",
          "data": {
            "image/png": "[encoded data removed]",
            "text/plain": [
              "<Figure size 576x720 with 1 Axes>"
            ]
          },
          "metadata": {
            "tags": [],
            "needs_background": "light"
          }
        }
      ]
    },
    {
      "cell_type": "code",
      "metadata": {
        "id": "female-opinion",
        "colab": {
          "base_uri": "https://localhost:8080/",
          "height": 297
        },
        "outputId": "826d66ac-1fbb-4d0c-bd3e-7cc2d73ba606"
      },
      "source": [
        "data_red.describe()"
      ],
      "id": "female-opinion",
      "execution_count": null,
      "outputs": [
        {
          "output_type": "execute_result",
          "data": {
            "text/html": [
              "<div>\n",
              "<style scoped>\n",
              "    .dataframe tbody tr th:only-of-type {\n",
              "        vertical-align: middle;\n",
              "    }\n",
              "\n",
              "    .dataframe tbody tr th {\n",
              "        vertical-align: top;\n",
              "    }\n",
              "\n",
              "    .dataframe thead th {\n",
              "        text-align: right;\n",
              "    }\n",
              "</style>\n",
              "<table border=\"1\" class=\"dataframe\">\n",
              "  <thead>\n",
              "    <tr style=\"text-align: right;\">\n",
              "      <th></th>\n",
              "      <th>Age</th>\n",
              "      <th>Rating</th>\n",
              "      <th>Positive Feedback Count</th>\n",
              "      <th>Division Name_</th>\n",
              "      <th>Division Name_General</th>\n",
              "      <th>Division Name_General Petite</th>\n",
              "      <th>Division Name_Initmates</th>\n",
              "      <th>Class Name_Sweaters</th>\n",
              "    </tr>\n",
              "  </thead>\n",
              "  <tbody>\n",
              "    <tr>\n",
              "      <th>count</th>\n",
              "      <td>23486.000000</td>\n",
              "      <td>23486.000000</td>\n",
              "      <td>23486.000000</td>\n",
              "      <td>23486.000000</td>\n",
              "      <td>23486.000000</td>\n",
              "      <td>23486.000000</td>\n",
              "      <td>23486.000000</td>\n",
              "      <td>23486.000000</td>\n",
              "    </tr>\n",
              "    <tr>\n",
              "      <th>mean</th>\n",
              "      <td>43.198544</td>\n",
              "      <td>4.196032</td>\n",
              "      <td>2.535936</td>\n",
              "      <td>0.000596</td>\n",
              "      <td>0.589713</td>\n",
              "      <td>0.345738</td>\n",
              "      <td>0.063953</td>\n",
              "      <td>0.060802</td>\n",
              "    </tr>\n",
              "    <tr>\n",
              "      <th>std</th>\n",
              "      <td>12.279544</td>\n",
              "      <td>1.110031</td>\n",
              "      <td>5.702202</td>\n",
              "      <td>0.024408</td>\n",
              "      <td>0.491896</td>\n",
              "      <td>0.475618</td>\n",
              "      <td>0.244674</td>\n",
              "      <td>0.238972</td>\n",
              "    </tr>\n",
              "    <tr>\n",
              "      <th>min</th>\n",
              "      <td>18.000000</td>\n",
              "      <td>1.000000</td>\n",
              "      <td>0.000000</td>\n",
              "      <td>0.000000</td>\n",
              "      <td>0.000000</td>\n",
              "      <td>0.000000</td>\n",
              "      <td>0.000000</td>\n",
              "      <td>0.000000</td>\n",
              "    </tr>\n",
              "    <tr>\n",
              "      <th>25%</th>\n",
              "      <td>34.000000</td>\n",
              "      <td>4.000000</td>\n",
              "      <td>0.000000</td>\n",
              "      <td>0.000000</td>\n",
              "      <td>0.000000</td>\n",
              "      <td>0.000000</td>\n",
              "      <td>0.000000</td>\n",
              "      <td>0.000000</td>\n",
              "    </tr>\n",
              "    <tr>\n",
              "      <th>50%</th>\n",
              "      <td>41.000000</td>\n",
              "      <td>5.000000</td>\n",
              "      <td>1.000000</td>\n",
              "      <td>0.000000</td>\n",
              "      <td>1.000000</td>\n",
              "      <td>0.000000</td>\n",
              "      <td>0.000000</td>\n",
              "      <td>0.000000</td>\n",
              "    </tr>\n",
              "    <tr>\n",
              "      <th>75%</th>\n",
              "      <td>52.000000</td>\n",
              "      <td>5.000000</td>\n",
              "      <td>3.000000</td>\n",
              "      <td>0.000000</td>\n",
              "      <td>1.000000</td>\n",
              "      <td>1.000000</td>\n",
              "      <td>0.000000</td>\n",
              "      <td>0.000000</td>\n",
              "    </tr>\n",
              "    <tr>\n",
              "      <th>max</th>\n",
              "      <td>99.000000</td>\n",
              "      <td>5.000000</td>\n",
              "      <td>122.000000</td>\n",
              "      <td>1.000000</td>\n",
              "      <td>1.000000</td>\n",
              "      <td>1.000000</td>\n",
              "      <td>1.000000</td>\n",
              "      <td>1.000000</td>\n",
              "    </tr>\n",
              "  </tbody>\n",
              "</table>\n",
              "</div>"
            ],
            "text/plain": [
              "                Age        Rating  ...  Division Name_Initmates  Class Name_Sweaters\n",
              "count  23486.000000  23486.000000  ...             23486.000000         23486.000000\n",
              "mean      43.198544      4.196032  ...                 0.063953             0.060802\n",
              "std       12.279544      1.110031  ...                 0.244674             0.238972\n",
              "min       18.000000      1.000000  ...                 0.000000             0.000000\n",
              "25%       34.000000      4.000000  ...                 0.000000             0.000000\n",
              "50%       41.000000      5.000000  ...                 0.000000             0.000000\n",
              "75%       52.000000      5.000000  ...                 0.000000             0.000000\n",
              "max       99.000000      5.000000  ...                 1.000000             1.000000\n",
              "\n",
              "[8 rows x 8 columns]"
            ]
          },
          "metadata": {
            "tags": []
          },
          "execution_count": 61
        }
      ]
    },
    {
      "cell_type": "code",
      "metadata": {
        "id": "elect-award"
      },
      "source": [
        "from sklearn.model_selection import cross_val_score\n",
        "from numpy import mean\n",
        "x_train, x_test, y_train, y_test = train_test_split(data_red.values, np.ravel(y), test_size = 0.3)"
      ],
      "id": "elect-award",
      "execution_count": null,
      "outputs": []
    },
    {
      "cell_type": "code",
      "metadata": {
        "id": "second-weekend",
        "colab": {
          "base_uri": "https://localhost:8080/"
        },
        "outputId": "a26571ed-97f6-4581-d91d-11d3eb336977"
      },
      "source": [
        "# Instantiate the classifier\n",
        "# Set the max depth to 10 and the random state to 0\n",
        "clf = RandomForestClassifier(max_depth=10,random_state=0)\n",
        "# Train the classifier\n",
        "clf.fit(x_train,y_train)\n",
        "# Use the classifier to make predictions from the test features\n",
        "prediction = clf.predict(x_test)\n",
        "# Compute the confusion matrix between the true and predicted test targets\n",
        "cm = confusion_matrix(y_test,prediction)\n",
        "print(y_test.shape[0])\n",
        "# Compute the model's accuracy by summing the diagonals of the confusion matrix\n",
        "# (i.e. taking its trace) and dividing by the number of test samples\n",
        "accuracy = np.trace(cm)/y_test.shape[0]\n",
        "### END CODE HERE ###\n",
        "print(f\"Accuracy = {accuracy}\")\n",
        "recall_scores = cross_val_score(clf, x_test, y_test, scoring='recall', cv=5)\n",
        "f1_scores = cross_val_score(clf, x_test, y_test, scoring='f1', cv=5)\n",
        "print(f'Mean Recall = {mean(recall_scores):.3f}')\n",
        "print(f'Mean F1 Score = {mean(f1_scores):.3f}')\n",
        "print(cm)"
      ],
      "id": "second-weekend",
      "execution_count": null,
      "outputs": [
        {
          "output_type": "stream",
          "text": [
            "7046\n",
            "Accuracy = 0.9331535623048538\n",
            "Mean Recall = 0.947\n",
            "Mean F1 Score = 0.957\n",
            "[[1131  105]\n",
            " [ 366 5444]]\n"
          ],
          "name": "stdout"
        }
      ]
    },
    {
      "cell_type": "code",
      "metadata": {
        "colab": {
          "base_uri": "https://localhost:8080/"
        },
        "id": "v15BNUeTiPAI",
        "outputId": "fa3cedf2-4525-446c-93b1-66212cd74991"
      },
      "source": [
        "cmp = confusion_matrix(y_test, prediction) \n",
        "acc  = accuracy(y_test, prediction)\n",
        "rec  = recall(y_test, prediction)\n",
        "prec = precision(y_test, prediction)\n",
        "f1   = f1_score(y_test, prediction)\n",
        "### END CODE HERE ###\n",
        "print(f'Accuracy = {acc}, Precision = {prec}, Recall = {rec}, F1-score = {f1}')\n",
        "print('Confusion Matrix is:')\n",
        "print(cmp)"
      ],
      "id": "v15BNUeTiPAI",
      "execution_count": null,
      "outputs": [
        {
          "output_type": "stream",
          "text": [
            "Accuracy = 0.9332954868010218, Precision = 0.9870485224370668, Recall = 0.9313253012048193, F1-score = 0.9583776124690045\n",
            "Confusion Matrix is:\n",
            "[[1165   71]\n",
            " [ 399 5411]]\n"
          ],
          "name": "stdout"
        }
      ]
    },
    {
      "cell_type": "code",
      "metadata": {
        "colab": {
          "base_uri": "https://localhost:8080/",
          "height": 624
        },
        "id": "lxc8KcMMPVWN",
        "outputId": "6d24984e-2ef6-44b9-bfbe-8dae774ba10b"
      },
      "source": [
        "\n",
        "sorted_idx = clf.feature_importances_.argsort()\n",
        "plt.barh(data_red.columns[sorted_idx],clf.feature_importances_[sorted_idx])\n",
        "plt.title(\"Feature importance using Random Forest Classifier\")"
      ],
      "id": "lxc8KcMMPVWN",
      "execution_count": null,
      "outputs": [
        {
          "output_type": "execute_result",
          "data": {
            "text/plain": [
              "Text(0.5, 1.0, 'Feature importance using Random Forest Classifier')"
            ]
          },
          "metadata": {
            "tags": []
          },
          "execution_count": 77
        },
        {
          "output_type": "display_data",
          "data": {
            "image/png": "[encoded data removed]",
            "text/plain": [
              "<Figure size 576x720 with 1 Axes>"
            ]
          },
          "metadata": {
            "tags": [],
            "needs_background": "light"
          }
        }
      ]
    },
    {
      "cell_type": "code",
      "metadata": {
        "id": "spread-stand",
        "colab": {
          "base_uri": "https://localhost:8080/"
        },
        "outputId": "3eb7cc13-3864-416e-e98f-7e1fdbbb5979"
      },
      "source": [
        "# Instantiate the classifier (\"balanced random forest\")\n",
        "# Set the max depth to 10, the random state to 0, and the class_weight to 'balanced'\n",
        "clf = RandomForestClassifier(max_depth=10,random_state=0,class_weight='balanced')\n",
        "# Train the classifier\n",
        "clf.fit(x_train,y_train)\n",
        "# Use the classifier to make predictions from the test features\n",
        "prediction = clf.predict(x_test)\n",
        "# Compute the confusion matrix between the true and predicted test targets\n",
        "cm = confusion_matrix(y_test,prediction)\n",
        "# Compute the model's accuracy by summing the diagonals of the confusion matrix\n",
        "# (i.e. taking its trace) and dividing by the number of test samples\n",
        "accuracy = np.trace(cm)/y_test.shape[0]\n",
        "### END CODE HERE ###\n",
        "print(f\"Accuracy = {accuracy}\")\n",
        "recall_scores = cross_val_score(clf, x_test, y_test, scoring='recall', cv=5)\n",
        "f1_scores = cross_val_score(clf, x_test, y_test, scoring='f1', cv=5)\n",
        "print(f'Mean Recall = {mean(recall_scores):.3f}')\n",
        "print(f'Mean F1 Score = {mean(f1_scores):.3f}')\n",
        "print(cm)"
      ],
      "id": "spread-stand",
      "execution_count": null,
      "outputs": [
        {
          "output_type": "stream",
          "text": [
            "Accuracy = 0.9332954868010218\n",
            "Mean Recall = 0.932\n",
            "Mean F1 Score = 0.958\n",
            "[[1165   71]\n",
            " [ 399 5411]]\n"
          ],
          "name": "stdout"
        }
      ]
    },
    {
      "cell_type": "code",
      "metadata": {
        "id": "spiritual-alexander",
        "colab": {
          "base_uri": "https://localhost:8080/",
          "height": 624
        },
        "outputId": "ac09b796-cf64-4f8e-b159-a4aa0067b373"
      },
      "source": [
        "sorted_idx = clf.feature_importances_.argsort()\n",
        "plt.barh(data_red.columns[sorted_idx],clf.feature_importances_[sorted_idx])\n",
        "plt.title(\"Feature importance using Random Forest Classifier (Balanced)\")"
      ],
      "id": "spiritual-alexander",
      "execution_count": null,
      "outputs": [
        {
          "output_type": "execute_result",
          "data": {
            "text/plain": [
              "Text(0.5, 1.0, 'Feature importance using Random Forest Classifier (Balanced)')"
            ]
          },
          "metadata": {
            "tags": []
          },
          "execution_count": 80
        },
        {
          "output_type": "display_data",
          "data": {
            "image/png": "[encoded data removed]",
            "text/plain": [
              "<Figure size 576x720 with 1 Axes>"
            ]
          },
          "metadata": {
            "tags": [],
            "needs_background": "light"
          }
        }
      ]
    },
    {
      "cell_type": "markdown",
      "metadata": {
        "id": "xqgKdejvXOZ1"
      },
      "source": [
        "#AutoML: TPOT for classification"
      ],
      "id": "xqgKdejvXOZ1"
    },
    {
      "cell_type": "code",
      "metadata": {
        "colab": {
          "base_uri": "https://localhost:8080/"
        },
        "id": "yY_nySEaSoIT",
        "outputId": "81347650-3721-43a7-a82d-88aa3c701ac1"
      },
      "source": [
        "!pip install tpot"
      ],
      "id": "yY_nySEaSoIT",
      "execution_count": null,
      "outputs": [
        {
          "output_type": "stream",
          "text": [
            "Collecting tpot\n",
            "\u001b[?25l  Downloading https://files.pythonhosted.org/packages/b2/55/a7185198f554ea19758e5ac4641f100c94cba4585e738e2e48e3c40a0b7f/TPOT-0.11.7-py3-none-any.whl (87kB)\n",
            "\r\u001b[K     |███▊                            | 10kB 16.9MB/s eta 0:00:01\r\u001b[K     |███████▌                        | 20kB 23.8MB/s eta 0:00:01\r\u001b[K     |███████████▎                    | 30kB 21.9MB/s eta 0:00:01\r\u001b[K     |███████████████                 | 40kB 14.5MB/s eta 0:00:01\r\u001b[K     |██████████████████▉             | 51kB 16.1MB/s eta 0:00:01\r\u001b[K     |██████████████████████▋         | 61kB 15.3MB/s eta 0:00:01\r\u001b[K     |██████████████████████████▎     | 71kB 13.2MB/s eta 0:00:01\r\u001b[K     |██████████████████████████████  | 81kB 14.2MB/s eta 0:00:01\r\u001b[K     |████████████████████████████████| 92kB 4.3MB/s \n",
            "\u001b[?25hRequirement already satisfied: numpy>=1.16.3 in /usr/local/lib/python3.7/dist-packages (from tpot) (1.19.5)\n",
            "Collecting deap>=1.2\n",
            "\u001b[?25l  Downloading https://files.pythonhosted.org/packages/99/d1/803c7a387d8a7e6866160b1541307f88d534da4291572fb32f69d2548afb/deap-1.3.1-cp37-cp37m-manylinux2010_x86_64.whl (157kB)\n",
            "\u001b[K     |████████████████████████████████| 163kB 14.9MB/s \n",
            "\u001b[?25hRequirement already satisfied: tqdm>=4.36.1 in /usr/local/lib/python3.7/dist-packages (from tpot) (4.41.1)\n",
            "Requirement already satisfied: scipy>=1.3.1 in /usr/local/lib/python3.7/dist-packages (from tpot) (1.4.1)\n",
            "Requirement already satisfied: scikit-learn>=0.22.0 in /usr/local/lib/python3.7/dist-packages (from tpot) (0.22.2.post1)\n",
            "Requirement already satisfied: joblib>=0.13.2 in /usr/local/lib/python3.7/dist-packages (from tpot) (1.0.1)\n",
            "Collecting update-checker>=0.16\n",
            "  Downloading https://files.pythonhosted.org/packages/0c/ba/8dd7fa5f0b1c6a8ac62f8f57f7e794160c1f86f31c6d0fb00f582372a3e4/update_checker-0.18.0-py3-none-any.whl\n",
            "Requirement already satisfied: pandas>=0.24.2 in /usr/local/lib/python3.7/dist-packages (from tpot) (1.1.5)\n",
            "Collecting xgboost>=1.1.0\n",
            "\u001b[?25l  Downloading https://files.pythonhosted.org/packages/05/45/978cd7e30860a5e2852500d55b7598d8f0806927ff30c86d01d01b28c43b/xgboost-1.4.0-py3-none-manylinux2010_x86_64.whl (166.7MB)\n",
            "\u001b[K     |████████████████████████████████| 166.7MB 87kB/s \n",
            "\u001b[?25hCollecting stopit>=1.1.1\n",
            "  Downloading https://files.pythonhosted.org/packages/35/58/e8bb0b0fb05baf07bbac1450c447d753da65f9701f551dca79823ce15d50/stopit-1.1.2.tar.gz\n",
            "Requirement already satisfied: requests>=2.3.0 in /usr/local/lib/python3.7/dist-packages (from update-checker>=0.16->tpot) (2.23.0)\n",
            "Requirement already satisfied: python-dateutil>=2.7.3 in /usr/local/lib/python3.7/dist-packages (from pandas>=0.24.2->tpot) (2.8.1)\n",
            "Requirement already satisfied: pytz>=2017.2 in /usr/local/lib/python3.7/dist-packages (from pandas>=0.24.2->tpot) (2018.9)\n",
            "Requirement already satisfied: idna<3,>=2.5 in /usr/local/lib/python3.7/dist-packages (from requests>=2.3.0->update-checker>=0.16->tpot) (2.10)\n",
            "Requirement already satisfied: certifi>=2017.4.17 in /usr/local/lib/python3.7/dist-packages (from requests>=2.3.0->update-checker>=0.16->tpot) (2020.12.5)\n",
            "Requirement already satisfied: chardet<4,>=3.0.2 in /usr/local/lib/python3.7/dist-packages (from requests>=2.3.0->update-checker>=0.16->tpot) (3.0.4)\n",
            "Requirement already satisfied: urllib3!=1.25.0,!=1.25.1,<1.26,>=1.21.1 in /usr/local/lib/python3.7/dist-packages (from requests>=2.3.0->update-checker>=0.16->tpot) (1.24.3)\n",
            "Requirement already satisfied: six>=1.5 in /usr/local/lib/python3.7/dist-packages (from python-dateutil>=2.7.3->pandas>=0.24.2->tpot) (1.15.0)\n",
            "Building wheels for collected packages: stopit\n",
            "  Building wheel for stopit (setup.py) ... \u001b[?25l\u001b[?25hdone\n",
            "  Created wheel for stopit: filename=stopit-1.1.2-cp37-none-any.whl size=11954 sha256=d2cf9b5ad61c98cbf6b27ebac737f38d5df9c67fb5669976c3568fd7f8414b6f\n",
            "  Stored in directory: /root/.cache/pip/wheels/3c/85/2b/2580190404636bfc63e8de3dff629c03bb795021e1983a6cc7\n",
            "Successfully built stopit\n",
            "Installing collected packages: deap, update-checker, xgboost, stopit, tpot\n",
            "  Found existing installation: xgboost 0.90\n",
            "    Uninstalling xgboost-0.90:\n",
            "      Successfully uninstalled xgboost-0.90\n",
            "Successfully installed deap-1.3.1 stopit-1.1.2 tpot-0.11.7 update-checker-0.18.0 xgboost-1.4.0\n"
          ],
          "name": "stdout"
        }
      ]
    },
    {
      "cell_type": "code",
      "metadata": {
        "colab": {
          "base_uri": "https://localhost:8080/",
          "height": 360,
          "referenced_widgets": [
            "7ccbb6a3c8a04a91b49da5556b843830",
            "cf0a1f66f87c437eb82fcedb34c59a80",
            "59c7e56dfd23402d9111539a086f1dce",
            "7d9b8cf9bd81485aa2581554d707a177",
            "5ea87b522d084f2d84c9f5733270cb38",
            "ac4a23ca3ac94cb3866b54cbab9beed8",
            "4a272d0bfefc4b0daf1664a983094405",
            "be18976a9e31448a8dda4f40dfb33084"
          ]
        },
        "id": "vqOzyNpMXwVe",
        "outputId": "0101a4a3-cca6-496b-b48c-46acd614a376"
      },
      "source": [
        "# TPOT for classification\n",
        "from tpot import TPOTClassifier\n",
        "### START CODE HERE ###\n",
        "# Instantiate and train a TPOT auto-ML classifier\n",
        "# Set generations to 5, population_size to 40, and verbosity to 2 (so you can see each generation's performance)\n",
        "tpot = TPOTClassifier(generations=5, population_size=40, verbosity=2, random_state=42)\n",
        "tpot.fit(x_train, y_train)\n",
        "# Evaluate the classifier on the test data\n",
        "# By default, the scoring function is accuracy\n",
        "print(tpot.score(x_test, y_test))\n",
        "### END CODE HERE ###\n",
        "tpot.export('tpot_products_pipeline.py')"
      ],
      "id": "vqOzyNpMXwVe",
      "execution_count": null,
      "outputs": [
        {
          "output_type": "stream",
          "text": [
            "/usr/local/lib/python3.7/dist-packages/sklearn/externals/six.py:31: FutureWarning: The module is deprecated in version 0.21 and will be removed in version 0.23 since we've dropped support for Python 2.7. Please rely on the official version of six (https://pypi.org/project/six/).\n",
            "  \"(https://pypi.org/project/six/).\", FutureWarning)\n",
            "/usr/local/lib/python3.7/dist-packages/sklearn/utils/deprecation.py:144: FutureWarning: The sklearn.neighbors.base module is  deprecated in version 0.22 and will be removed in version 0.24. The corresponding classes / functions should instead be imported from sklearn.neighbors. Anything that cannot be imported from sklearn.neighbors is now part of the private API.\n",
            "  warnings.warn(message, FutureWarning)\n"
          ],
          "name": "stderr"
        },
        {
          "output_type": "display_data",
          "data": {
            "application/vnd.jupyter.widget-view+json": {
              "model_id": "7ccbb6a3c8a04a91b49da5556b843830",
              "version_minor": 0,
              "version_major": 2
            },
            "text/plain": [
              "HBox(children=(FloatProgress(value=0.0, description='Optimization Progress', max=240.0, style=ProgressStyle(de…"
            ]
          },
          "metadata": {
            "tags": []
          }
        },
        {
          "output_type": "stream",
          "text": [
            "\r\n",
            "Generation 1 - Current best internal CV score: 0.9375304136253041\n",
            "\n",
            "Generation 2 - Current best internal CV score: 0.9375304136253041\n",
            "\n",
            "Generation 3 - Current best internal CV score: 0.9375912408759124\n",
            "\n",
            "Generation 4 - Current best internal CV score: 0.9375912408759124\n",
            "\n",
            "Generation 5 - Current best internal CV score: 0.9375912408759124\n",
            "\n",
            "Best pipeline: BernoulliNB(XGBClassifier(SelectPercentile(input_matrix, percentile=23), learning_rate=0.5, max_depth=3, min_child_weight=8, n_estimators=100, n_jobs=1, subsample=0.8, verbosity=0), alpha=10.0, fit_prior=False)\n",
            "0.9340051092818621\n"
          ],
          "name": "stdout"
        },
        {
          "output_type": "stream",
          "text": [
            "/usr/local/lib/python3.7/dist-packages/xgboost/data.py:114: UserWarning: Use subset (sliced data) of np.ndarray is not recommended because it will generate extra copies and increase memory consumption\n",
            "  \"because it will generate extra copies and increase \" +\n"
          ],
          "name": "stderr"
        }
      ]
    },
    {
      "cell_type": "code",
      "metadata": {
        "id": "YUsderRNgWtQ"
      },
      "source": [
        "from sklearn.decomposition import PCA\n",
        "from sklearn.pipeline import make_pipeline, make_union\n",
        "from sklearn.svm import LinearSVC\n",
        "from tpot.builtins import StackingEstimator\n",
        "from xgboost import XGBClassifier\n",
        "from sklearn.tree import DecisionTreeClassifier\n",
        "from sklearn.naive_bayes import BernoulliNB\n",
        "\n",
        "def return_tpot_results(x_train, y_train, xtest):\n",
        "    ### START CODE HERE ###\n",
        "    exported_pipeline = BernoulliNB(alpha=10.0,fit_prior=False)\n",
        "    \n",
        "    exported_pipeline.fit(x_train, y_train)\n",
        "    prediction = exported_pipeline.predict(x_test)\n",
        "    ### END CODE HERE ### \n",
        "    return prediction\n",
        "\n",
        "pred = return_tpot_results(x_train, y_train, x_test)"
      ],
      "id": "YUsderRNgWtQ",
      "execution_count": null,
      "outputs": []
    },
    {
      "cell_type": "code",
      "metadata": {
        "colab": {
          "base_uri": "https://localhost:8080/"
        },
        "id": "SIMNQbhBghE7",
        "outputId": "b13f375c-2b1c-4bfc-d16a-fd2b27260c3f"
      },
      "source": [
        "from sklearn.metrics import confusion_matrix\n",
        "from sklearn.metrics import accuracy_score as accuracy\n",
        "from sklearn.metrics import recall_score as recall\n",
        "from sklearn.metrics import precision_score as precision\n",
        "from sklearn.metrics import f1_score\n",
        "\n",
        "### START CODE HERE ###\n",
        "# TPOT confusion matrix\n",
        "cmtp = confusion_matrix(y_test, pred) \n",
        "acc  = accuracy(y_test, pred)\n",
        "rec  = recall(y_test, pred)\n",
        "prec = precision(y_test, pred)\n",
        "f1   = f1_score(y_test, pred)\n",
        "### END CODE HERE ###\n",
        "print(f'Accuracy = {acc}, Precision = {prec}, Recall = {rec}, F1-score = {f1}')\n",
        "print('Confusion Matrix is:')\n",
        "print(cmtp)"
      ],
      "id": "SIMNQbhBghE7",
      "execution_count": null,
      "outputs": [
        {
          "output_type": "stream",
          "text": [
            "Accuracy = 0.5141924496168039, Precision = 0.842467718794835, Recall = 0.5053356282271945, F1-score = 0.6317374932759547\n",
            "Confusion Matrix is:\n",
            "[[ 687  549]\n",
            " [2874 2936]]\n"
          ],
          "name": "stdout"
        }
      ]
    }
  ]
}